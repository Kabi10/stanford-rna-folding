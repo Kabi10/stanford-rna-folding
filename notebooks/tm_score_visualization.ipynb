{
 "cells": [
  {
   "cell_type": "markdown",
   "metadata": {},
   "source": [
    "# RNA Structure Visualization with TM-score Analysis\n",
    "\n",
    "This notebook provides tools for visualizing RNA 3D structures predicted by our models and analyzing their quality using TM-score metrics."
   ]
  },
  {
   "cell_type": "code",
   "execution_count": null,
   "metadata": {},
   "outputs": [],
   "source": [
    "import os\n",
    "import sys\n",
    "import torch\n",
    "import numpy as np\n",
    "import pandas as pd\n",
    "import matplotlib.pyplot as plt\n",
    "from pathlib import Path\n",
    "try:\n",
    "    import py3Dmol\n",
    "except ImportError:\n",
    "    !pip install py3Dmol\n",
    "    import py3Dmol\n",
    "\n",
    "# Add the src directory to the path to import our modules\n",
    "module_path = os.path.abspath(os.path.join('..'))\n",
    "if module_path not in sys.path:\n",
    "    sys.path.append(module_path)\n",
    "\n",
    "# Import our modules\n",
    "from src.stanford_rna_folding.models.rna_folding_model import RNAFoldingModel\n",
    "from src.stanford_rna_folding.data.data_processing import StanfordRNADataset, rna_collate_fn\n",
    "from src.stanford_rna_folding.evaluation.metrics import batch_rmsd, batch_tm_score, tm_score, structure_core_identification\n",
    "from src.stanford_rna_folding.evaluation.alignment import save_pdb_from_coords, tm_score_with_us_align"
   ]
  },
  {
   "cell_type": "code",
   "execution_count": null,
   "metadata": {},
   "outputs": [],
   "source": [
    "# Set up device\n",
    "device = torch.device('cuda' if torch.cuda.is_available() else 'cpu')\n",
    "print(f\"Using device: {device}\")"
   ]
  },
  {
   "cell_type": "markdown",
   "metadata": {},
   "source": [
    "## Load Model and Data"
   ]
  },
  {
   "cell_type": "code",
   "execution_count": null,
   "metadata": {},
   "outputs": [],
   "source": [
    "def load_config(config_path):\n",
    "    \"\"\"Load configuration from a YAML file.\"\"\"\n",
    "    import yaml\n",
    "    with open(config_path, 'r') as f:\n",
    "        config = yaml.safe_load(f)\n",
    "    return config\n",
    "\n",
    "# Choose a config file\n",
    "config_path = \"../configs/biophysics_config.yaml\"\n",
    "config = load_config(config_path)\n",
    "print(f\"Loaded configuration from {config_path}\")"
   ]
  },
  {
   "cell_type": "code",
   "execution_count": null,
   "metadata": {},
   "outputs": [],
   "source": [
    "def load_model(checkpoint_path, config):\n",
    "    \"\"\"Load a trained model from a checkpoint.\"\"\"\n",
    "    # Initialize the model\n",
    "    model_config = config['model']['params']\n",
    "    model = RNAFoldingModel(**model_config)\n",
    "    \n",
    "    # Load the checkpoint\n",
    "    checkpoint = torch.load(checkpoint_path, map_location=device)\n",
    "    model.load_state_dict(checkpoint['model_state_dict'])\n",
    "    model = model.to(device)\n",
    "    model.eval()\n",
    "    \n",
    "    print(f\"Loaded model from {checkpoint_path}\")\n",
    "    print(f\"Best validation RMSD: {checkpoint.get('val_rmsd', 'N/A')}\")\n",
    "    print(f\"Best validation TM-score: {checkpoint.get('val_tm_score', 'N/A')}\")\n",
    "    \n",
    "    return model\n",
    "\n",
    "# Choose a checkpoint file\n",
    "checkpoint_path = \"../models/best_model_tm_score.pt\"\n",
    "try:\n",
    "    model = load_model(checkpoint_path, config)\n",
    "except FileNotFoundError:\n",
    "    print(f\"Checkpoint file {checkpoint_path} not found. You can specify the correct path above.\")"
   ]
  },
  {
   "cell_type": "code",
   "execution_count": null,
   "metadata": {},
   "outputs": [],
   "source": [
    "def load_dataset(data_dir, split):\n",
    "    \"\"\"Load a dataset for the specified split.\"\"\"\n",
    "    from src.stanford_rna_folding.data.transforms import RNADataTransform\n",
    "    \n",
    "    # Create transform\n",
    "    transform = RNADataTransform(normalize_coords=True)\n",
    "    \n",
    "    # Create dataset\n",
    "    dataset = StanfordRNADataset(data_dir=data_dir, split=split, transform=transform)\n",
    "    \n",
    "    print(f\"Loaded {split} dataset with {len(dataset)} examples\")\n",
    "    return dataset\n",
    "\n",
    "# Load the validation dataset\n",
    "data_dir = \"../datasets/stanford-rna-3d-folding\"\n",
    "try:\n",
    "    val_dataset = load_dataset(data_dir, \"validation\")\n",
    "except FileNotFoundError:\n",
    "    print(f\"Data directory {data_dir} not found. You can specify the correct path above.\")"
   ]
  },
  {
   "cell_type": "markdown",
   "metadata": {},
   "source": [
    "## Predict Structures"
   ]
  },
  {
   "cell_type": "code",
   "execution_count": null,
   "metadata": {},
   "outputs": [],
   "source": [
    "def predict_structure(model, sequence):\n",
    "    \"\"\"Predict the 3D structure for a RNA sequence.\"\"\"\n",
    "    model.eval()\n",
    "    with torch.no_grad():\n",
    "        # Encode sequence\n",
    "        if isinstance(sequence, str):\n",
    "            # Map nucleotides to indices (A=0, U=1, G=2, C=3, N=4)\n",
    "            nucleotide_map = {'A': 0, 'U': 1, 'G': 2, 'C': 3, 'N': 4}\n",
    "            seq_tensor = torch.tensor([nucleotide_map.get(n, 4) for n in sequence], dtype=torch.long)\n",
    "            seq_tensor = seq_tensor.unsqueeze(0)  # Add batch dimension\n",
    "        else:\n",
    "            # Assume it's already a tensor\n",
    "            seq_tensor = sequence.unsqueeze(0) if sequence.dim() == 1 else sequence\n",
    "            \n",
    "        seq_tensor = seq_tensor.to(device)\n",
    "        seq_length = torch.tensor([seq_tensor.size(1)], dtype=torch.long, device=device)\n",
    "        \n",
    "        # Forward pass\n",
    "        pred_coords = model(seq_tensor, seq_length)\n",
    "        \n",
    "    return pred_coords[0]  # Remove batch dimension"
   ]
  },
  {
   "cell_type": "code",
   "execution_count": null,
   "metadata": {},
   "outputs": [],
   "source": [
    "# Choose a random example from the validation set\n",
    "try:\n",
    "    example_idx = np.random.randint(0, len(val_dataset))\n",
    "    example = val_dataset[example_idx]\n",
    "    \n",
    "    # Get the sequence and true coordinates\n",
    "    sequence = example['sequence']\n",
    "    true_coords = example['coordinates']\n",
    "    target_id = example['target_id']\n",
    "    \n",
    "    # Print some information about the example\n",
    "    print(f\"Example {example_idx}: {target_id}\")\n",
    "    print(f\"Sequence length: {len(sequence)}\")\n",
    "    print(f\"Coordinates shape: {true_coords.shape}\")\n",
    "    \n",
    "    # Predict the structure\n",
    "    pred_coords = predict_structure(model, sequence)\n",
    "    print(f\"Predicted coordinates shape: {pred_coords.shape}\")\n",
    "except NameError:\n",
    "    print(\"Dataset or model not loaded. Please run the previous cells first.\")"
   ]
  },
  {
   "cell_type": "markdown",
   "metadata": {},
   "source": [
    "## Calculate TM-scores"
   ]
  },
  {
   "cell_type": "code",
   "execution_count": null,
   "metadata": {},
   "outputs": [],
   "source": [
    "def calculate_metrics(pred_coords, true_coords):\n",
    "    \"\"\"Calculate RMSD and TM-score for a predicted structure.\"\"\"\n",
    "    # Convert to CPU tensors if needed\n",
    "    if pred_coords.device.type == 'cuda':\n",
    "        pred_coords = pred_coords.cpu()\n",
    "    if true_coords.device.type == 'cuda':\n",
    "        true_coords = true_coords.cpu()\n",
    "    \n",
    "    # Calculate RMSD\n",
    "    from src.stanford_rna_folding.evaluation.metrics import rmsd\n",
    "    rmsd_value = rmsd(pred_coords, true_coords, align=True).item()\n",
    "    \n",
    "    # Calculate TM-score\n",
    "    from src.stanford_rna_folding.evaluation.metrics import tm_score\n",
    "    tm_value = tm_score(pred_coords, true_coords, align=True).item()\n",
    "    \n",
    "    # Identify core structure regions\n",
    "    # Flatten coordinates for structure core identification\n",
    "    pred_flat = pred_coords.reshape(-1, 3)\n",
    "    true_flat = true_coords.reshape(-1, 3)\n",
    "    \n",
    "    # Calculate d0 parameter for TM-score\n",
    "    Lref = true_flat.shape[0]\n",
    "    d0 = 1.24 * (Lref - 15) ** (1/3) - 1.8\n",
    "    d0 = max(d0, 0.5)\n",
    "    \n",
    "    # Identify core regions based on TM-score contributions\n",
    "    core_mask = structure_core_identification(pred_flat, true_flat, d0)\n",
    "    \n",
    "    return {\n",
    "        'rmsd': rmsd_value,\n",
    "        'tm_score': tm_value,\n",
    "        'core_mask': core_mask\n",
    "    }"
   ]
  },
  {
   "cell_type": "code",
   "execution_count": null,
   "metadata": {},
   "outputs": [],
   "source": [
    "try:\n",
    "    # Calculate metrics for the predicted structure\n",
    "    metrics = calculate_metrics(pred_coords, true_coords)\n",
    "    \n",
    "    print(f\"RMSD: {metrics['rmsd']:.4f}\")\n",
    "    print(f\"TM-score: {metrics['tm_score']:.4f}\")\n",
    "    print(f\"Number of core residues: {metrics['core_mask'].sum().item()}/{len(metrics['core_mask'])}\")\n",
    "    print(f\"Core percentage: {metrics['core_mask'].sum().item() / len(metrics['core_mask']) * 100:.1f}%\")\n",
    "except NameError:\n",
    "    print(\"Predicted coordinates not available. Please run the previous cells first.\")"
   ]
  },
  {
   "cell_type": "markdown",
   "metadata": {},
   "source": [
    "## Visualize Structures"
   ]
  },
  {
   "cell_type": "code",
   "execution_count": null,
   "metadata": {},
   "outputs": [],
   "source": [
    "def save_structures_as_pdb(pred_coords, true_coords, prefix=\"structure\"):\n",
    "    \"\"\"Save predicted and true structures as PDB files.\"\"\"\n",
    "    # Create an output directory if it doesn't exist\n",
    "    output_dir = \"output_structures\"\n",
    "    os.makedirs(output_dir, exist_ok=True)\n",
    "    \n",
    "    # Save predicted structure\n",
    "    pred_pdb_path = os.path.join(output_dir, f\"{prefix}_pred.pdb\")\n",
    "    save_pdb_from_coords(pred_coords, pred_pdb_path)\n",
    "    \n",
    "    # Save true structure\n",
    "    true_pdb_path = os.path.join(output_dir, f\"{prefix}_true.pdb\")\n",
    "    save_pdb_from_coords(true_coords, true_pdb_path)\n",
    "    \n",
    "    return pred_pdb_path, true_pdb_path"
   ]
  },
  {
   "cell_type": "code",
   "execution_count": null,
   "metadata": {},
   "outputs": [],
   "source": [
    "def visualize_structures(pred_coords, true_coords):\n",
    "    \"\"\"Visualize predicted and true structures with py3Dmol.\"\"\"\n",
    "    # Convert to numpy arrays if needed\n",
    "    if isinstance(pred_coords, torch.Tensor):\n",
    "        pred_coords = pred_coords.detach().cpu().numpy()\n",
    "    if isinstance(true_coords, torch.Tensor):\n",
    "        true_coords = true_coords.detach().cpu().numpy()\n",
    "    \n",
    "    # Save structures to PDB files\n",
    "    pred_path, true_path = save_structures_as_pdb(pred_coords, true_coords)\n",
    "    \n",
    "    # Read PDB files\n",
    "    with open(pred_path, 'r') as f:\n",
    "        pred_pdb = f.read()\n",
    "    with open(true_path, 'r') as f:\n",
    "        true_pdb = f.read()\n",
    "    \n",
    "    # Create a py3Dmol viewer\n",
    "    view = py3Dmol.view(width=800, height=400)\n",
    "    \n",
    "    # Add the structures to separate models\n",
    "    view.addModel(pred_pdb, 'pdb', {'model': 'pred'})\n",
    "    view.addModel(true_pdb, 'pdb', {'model': 'true'})\n",
    "    \n",
    "    # Style the prediction (blue)\n",
    "    view.setStyle({'model': 'pred'}, {'cartoon': {'color': 'blue', 'thickness': 0.8}})\n",
    "    \n",
    "    # Style the true structure (green)\n",
    "    view.setStyle({'model': 'true'}, {'cartoon': {'color': 'green', 'thickness': 0.8}})\n",
    "    \n",
    "    # Set up the viewer\n",
    "    view.zoomTo()\n",
    "    \n",
    "    return view"
   ]
  },
  {
   "cell_type": "code",
   "execution_count": null,
   "metadata": {},
   "outputs": [],
   "source": [
    "try:\n",
    "    # Visualize the structures\n",
    "    view = visualize_structures(pred_coords, true_coords)\n",
    "    view\n",
    "except NameError:\n",
    "    print(\"Predicted coordinates not available. Please run the previous cells first.\")"
   ]
  },
  {
   "cell_type": "markdown",
   "metadata": {},
   "source": [
    "## Conclusion and Next Steps\n",
    "\n",
    "In this notebook, we've demonstrated how to visualize RNA structures and analyze their quality using TM-score. The TM-score provides a more robust metric than RMSD for assessing the overall structural similarity between predicted and reference RNA structures.\n",
    "\n",
    "Next steps could include:\n",
    "1. Analyzing the performance of our model on different RNA families\n",
    "2. Enhancing the visualization to highlight regions with high/low TM-score contributions\n",
    "3. Using these insights to improve the model's performance on challenging structures"
   ]
  }
 ],
 "metadata": {
  "kernelspec": {
   "display_name": "Python 3",
   "language": "python",
   "name": "python3"
  },
  "language_info": {
   "codemirror_mode": {
    "name": "ipython",
    "version": 3
   },
   "file_extension": ".py",
   "mimetype": "text/x-python",
   "name": "python",
   "nbconvert_exporter": "python",
   "pygments_lexer": "ipython3",
   "version": "3.8.10"
  }
 },
 "nbformat": 4,
 "nbformat_minor": 4
}