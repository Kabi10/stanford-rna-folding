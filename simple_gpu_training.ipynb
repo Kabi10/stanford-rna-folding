{
 "cells": [
  {
   "cell_type": "markdown",
   "metadata": {},
   "source": [
    "# Stanford RNA 3D Folding - GPU Training (Kaggle)\n",
    "This notebook attaches the private dataset and launches the GPU training pipeline."
   ]
  },
  {
   "cell_type": "code",
   "metadata": {},
   "execution_count": null,
   "outputs": [],
   "source": [
    "import os, sys\n",
    "from pathlib import Path\n",
    "DATASET_PATH = Path('/kaggle/input/stanford-rna-3d-folding')\n",
    "assert DATASET_PATH.exists(), 'Dataset not attached. Please add the private dataset.'\n",
    "sys.path.insert(0, str(DATASET_PATH))\n",
    "print('Dataset attached:', DATASET_PATH)\n",
    "\n",
    "import torch\n",
    "print('CUDA available:', torch.cuda.is_available())\n",
    "if torch.cuda.is_available():\n",
    "    print('GPU:', torch.cuda.get_device_name(0))\n",
    "    print('Total memory (GB):', torch.cuda.get_device_properties(0).total_memory/1e9)"
   ]
  },
  {
   "cell_type": "code",
   "metadata": {},
   "execution_count": null,
   "outputs": [],
   "source": [
    "# Run the Kaggle training script packaged in the dataset\n",
    "from scripts.rna_folding_kaggle_train import main as kaggle_main\n",
    "model, results = kaggle_main()\n",
    "print('Training finished. Results:')\n",
    "print(results)"
   ]
  }
 ],
 "metadata": {
  "kernelspec": {
   "display_name": "Python 3",
   "language": "python",
   "name": "python3"
  },
  "language_info": {
   "name": "python",
   "version": "3.8"
  }
 },
 "nbformat": 4,
 "nbformat_minor": 4
}
